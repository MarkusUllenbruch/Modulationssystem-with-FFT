{
 "cells": [
  {
   "cell_type": "code",
   "execution_count": 1,
   "metadata": {},
   "outputs": [],
   "source": [
    "import numpy as np\n",
    "%matplotlib inline\n",
    "import matplotlib.pyplot as plt\n",
    "import scipy.signal as sig\n",
    "import timeit"
   ]
  },
  {
   "cell_type": "markdown",
   "metadata": {},
   "source": [
    "# Schnelle Faltung Implementierung"
   ]
  },
  {
   "cell_type": "code",
   "execution_count": 2,
   "metadata": {},
   "outputs": [],
   "source": [
    "def schnelle_faltung(f_arg, g_arg):\n",
    "    \"\"\" Berechne schnelle Faltung von 2 Inputsignalen\n",
    "    f_arg  --  Inputsignal 1\n",
    "    g_arg  --  Inputsignal 2\n",
    "    \"\"\"\n",
    "    if f_arg.size >= g_arg.size: # Bezeichne längeres Signal als f\n",
    "        f = f_arg                # Bezeichne kürzeres Signal als g\n",
    "        g = g_arg\n",
    "    else:\n",
    "        f = g_arg\n",
    "        g = f_arg\n",
    "        \n",
    "    G = g.shape[0]               # Länge \"Impulsantwort\"       \n",
    "    F = 8*G                      # Länge Fenster --> grobe Festlegung, Daumenregel aus Vorlesung\n",
    "    F = 2**(int(np.log2(F)) + 1) # F>G UND 2er-Potenz, es wird die nächste 2-er Potenz berechnet zu 8*G\n",
    "    \n",
    "    g = np.pad(g, (0, F-G), 'constant', constant_values=(0,0)) # Füge F-G Nullen ans Ende von g ein\n",
    "    f = np.pad(f, (G-1, 0), 'constant', constant_values=(0,0)) # Füge G-1 Nullen an Anfang von f ein\n",
    "    len_F = len(f)         # Länge des zero gepaddeten Signals f\n",
    "    h = [];                # Initialisiere leeren Array h  \n",
    "    delta = F - G + 1\n",
    "    s = 0                  # Shift-Index       \n",
    "    while True: \n",
    "        f_block = [];\n",
    "        if s+F-1 >= len_F: #Abbruchbedingung der while-Schleife Vor \"break\" muss noch  verbleibendes Signal verarbeitet werden\n",
    "            signal_remaining = f[s:]  \n",
    "            part_for_FFT = np.concatenate((signal_remaining, np.zeros(F-len(signal_remaining))) )\n",
    "            cyc = np.fft.ifft(rec_FFT(part_for_FFT)*rec_FFT(g))   # Zyklische Faltung\n",
    "            h = np.concatenate((h, cyc[G-1: G+len(signal_remaining)-1]))\n",
    "            break\n",
    "        else:\n",
    "            f_block = f[s:s+F]\n",
    "            z =  np.fft.ifft( rec_FFT(f_block) * rec_FFT(g) )  #Zyklische Faltung\n",
    "            h = np.concatenate((h, z[G-1: F]))\n",
    "            s = s + delta\n",
    "        \n",
    "    h = np.array(h, dtype=np.float64)    \n",
    "    return h"
   ]
  },
  {
   "cell_type": "markdown",
   "metadata": {},
   "source": [
    "# ---------------------------------------------------------------------------------------------------------------\n",
    "# Test der schnellen Faltung"
   ]
  },
  {
   "cell_type": "code",
   "execution_count": 3,
   "metadata": {},
   "outputs": [],
   "source": [
    "def rec_FFT(f):\n",
    "    \"\"\" Recursive FFT calculation of samples f \"\"\"\n",
    "    f = np.asarray(f)\n",
    "    n = f.shape[0]\n",
    "    if n == 1:\n",
    "        return f\n",
    "    else:\n",
    "        f_even = f[::2]\n",
    "        f_odd = f[1::2]\n",
    "        g = rec_FFT(f_even)\n",
    "        u = rec_FFT(f_odd)\n",
    "        c = np.zeros(n, dtype=complex)\n",
    "        for k in range(n//2):\n",
    "            c[k] = g[k] + u[k]*np.exp(-2j*np.pi*k/n)\n",
    "            c[k+n//2] = g[k] - u[k]*np.exp(-2j*np.pi*k/n)\n",
    "    return c"
   ]
  },
  {
   "cell_type": "code",
   "execution_count": 4,
   "metadata": {},
   "outputs": [],
   "source": [
    "def IFFT(z):\n",
    "    \"\"\"Inverse Recursive FFT calculation of Fourier coefficients z\"\"\"\n",
    "    n = len(z)\n",
    "    f = IFFT_rec(z)\n",
    "    return np.real(f)/n"
   ]
  },
  {
   "cell_type": "code",
   "execution_count": 5,
   "metadata": {},
   "outputs": [],
   "source": [
    "def IFFT_rec(z):\n",
    "    \"\"\"  \"\"\"\n",
    "    z = np.asarray(z, dtype=complex)\n",
    "    n = z.shape[0]\n",
    "    z_even = z[::2]\n",
    "    z_odd = z[1::2]\n",
    "    \n",
    "    if n == 1:\n",
    "        return z\n",
    "    else:\n",
    "        g = IFFT_rec(z_even)\n",
    "        u = IFFT_rec(z_odd)\n",
    "        c = np.zeros(n, dtype=complex)\n",
    "        \n",
    "        for k in range(n//2):\n",
    "            temp = u[k]*np.exp(2j*np.pi*k/n)\n",
    "            c[k]      = g[k] + temp\n",
    "            c[k+n//2] = g[k] - temp\n",
    "    return c"
   ]
  },
  {
   "cell_type": "code",
   "execution_count": 6,
   "metadata": {},
   "outputs": [],
   "source": [
    "#Abtastung\n",
    "def sampling(t_end, sampling_freq):\n",
    "    sampling = np.linspace(0, t_end, t_end * sampling_freq, endpoint=True)\n",
    "    return sampling"
   ]
  },
  {
   "cell_type": "code",
   "execution_count": 7,
   "metadata": {},
   "outputs": [],
   "source": [
    "#Recht-Eck Signal\n",
    "def sqwave(freq, amp, sampling):\n",
    "    signal = amp *sig.square(sampling*freq*2*np.pi)\n",
    "    return signal"
   ]
  },
  {
   "cell_type": "code",
   "execution_count": 8,
   "metadata": {},
   "outputs": [],
   "source": [
    "#Sinus Signal\n",
    "def sine(freq, amp, sampling):\n",
    "    signal = amp * np.sin(2*np.pi*freq*sampling)\n",
    "    return signal"
   ]
  },
  {
   "cell_type": "markdown",
   "metadata": {},
   "source": [
    "## Erzeuge Testsignale und falte diese\n",
    "Ein Testsignal sehr lang, das andere sehr kurz"
   ]
  },
  {
   "cell_type": "code",
   "execution_count": 9,
   "metadata": {},
   "outputs": [
    {
     "name": "stdout",
     "output_type": "stream",
     "text": [
      "Samples bei Faltung:  121199\n"
     ]
    }
   ],
   "source": [
    "fs = 60\n",
    "time1 = sampling(2000, fs)\n",
    "time2 = sampling(20, fs)\n",
    "data1 = sine(2,0.5,time1)\n",
    "data2 = sine(1,0.9,time2)\n",
    "print(\"Samples bei Faltung: \",len(data1)+len(data2)-1)"
   ]
  },
  {
   "cell_type": "code",
   "execution_count": 10,
   "metadata": {},
   "outputs": [
    {
     "data": {
      "text/plain": [
       "[<matplotlib.lines.Line2D at 0x1be8d4e3608>]"
      ]
     },
     "execution_count": 10,
     "metadata": {},
     "output_type": "execute_result"
    },
    {
     "data": {
      "image/png": "[encoded data removed]",
      "text/plain": [
       "<Figure size 432x288 with 1 Axes>"
      ]
     },
     "metadata": {
      "needs_background": "light"
     },
     "output_type": "display_data"
    }
   ],
   "source": [
    "plt.plot(time1, data1)\n",
    "plt.plot(time2, data2)"
   ]
  },
  {
   "cell_type": "code",
   "execution_count": 11,
   "metadata": {},
   "outputs": [
    {
     "name": "stdout",
     "output_type": "stream",
     "text": [
      "121199\n",
      "121199\n"
     ]
    },
    {
     "name": "stderr",
     "output_type": "stream",
     "text": [
      "C:\\Users\\marku\\Anaconda3\\lib\\site-packages\\ipykernel_launcher.py:37: ComplexWarning: Casting complex values to real discards the imaginary part\n"
     ]
    }
   ],
   "source": [
    "falt_self = schnelle_faltung(data1, data2)\n",
    "print(len(falt_self))\n",
    "\n",
    "falt_py = sig.fftconvolve(data1, data2)\n",
    "print(len(falt_py))"
   ]
  },
  {
   "cell_type": "code",
   "execution_count": 12,
   "metadata": {},
   "outputs": [
    {
     "data": {
      "text/plain": [
       "<matplotlib.legend.Legend at 0x1be8d7dd508>"
      ]
     },
     "execution_count": 12,
     "metadata": {},
     "output_type": "execute_result"
    },
    {
     "data": {
      "image/png": "[encoded data removed]",
      "text/plain": [
       "<Figure size 432x288 with 1 Axes>"
      ]
     },
     "metadata": {
      "needs_background": "light"
     },
     "output_type": "display_data"
    }
   ],
   "source": [
    "# Differenz der selbst implementierten schnellen Faltung und der Faltung von numpy\n",
    "diff = falt_self - falt_py\n",
    "plt.plot(diff, label='Diff = meine - numpy')\n",
    "plt.legend(title='')"
   ]
  },
  {
   "cell_type": "markdown",
   "metadata": {},
   "source": [
    "### Andere Testsignale"
   ]
  },
  {
   "cell_type": "code",
   "execution_count": 13,
   "metadata": {},
   "outputs": [],
   "source": [
    "fs = 20\n",
    "time = sampling(2, fs)\n",
    "Data1 = sine(2,0.5,time)\n",
    "Data2 = sqwave(0.7,1,time)"
   ]
  },
  {
   "cell_type": "code",
   "execution_count": 14,
   "metadata": {},
   "outputs": [
    {
     "name": "stderr",
     "output_type": "stream",
     "text": [
      "C:\\Users\\marku\\Anaconda3\\lib\\site-packages\\ipykernel_launcher.py:37: ComplexWarning: Casting complex values to real discards the imaginary part\n"
     ]
    },
    {
     "data": {
      "image/png": "[encoded data removed]",
      "text/plain": [
       "<Figure size 432x288 with 1 Axes>"
      ]
     },
     "metadata": {
      "needs_background": "light"
     },
     "output_type": "display_data"
    }
   ],
   "source": [
    "Fast_Con = schnelle_faltung(Data1, Data2)\n",
    "Con_py = np.convolve(Data1, Data2)\n",
    "\n",
    "t_en = len(Fast_Con)/fs\n",
    "time_con = np.linspace(0, t_en, len(Fast_Con))\n",
    "\n",
    "plt.step(time_con, Fast_Con, where='post', label= 'schnelle Faltung mit FFT')\n",
    "plt.plot(time_con, Fast_Con, 'C2o', alpha=0.5)\n",
    "\n",
    "plt.step(time_con, Con_py,'--', where='post', label= 'Faltung im Zeitbereich')\n",
    "plt.plot(time_con, Con_py, 'C2o',markersize=3, alpha=0.5)\n",
    "plt.legend(title='')\n",
    "plt.xlabel('Time [s]')\n",
    "plt.ylabel('Faltung')\n",
    "#plt.savefig('Bilder\\schnelleFaltung_Both.eps')\n",
    "plt.show()"
   ]
  },
  {
   "cell_type": "markdown",
   "metadata": {},
   "source": [
    "# Rechenzeit \"schnelle Faltung\" vs \"Faltung\""
   ]
  },
  {
   "cell_type": "code",
   "execution_count": 15,
   "metadata": {},
   "outputs": [],
   "source": [
    "def convolution(f,g):\n",
    "    n = len(f)\n",
    "    m = len(g)\n",
    "    \n",
    "    buffer = np.concatenate((np.zeros(m-1), np.asarray(f,dtype=float)))\n",
    "    buffer = np.concatenate((buffer,  np.zeros(m-1)))\n",
    "    \n",
    "    result = np.zeros(n+m-1)\n",
    "    for i in range(0, n+m-1):\n",
    "        summe = 0\n",
    "        for j in range(0,m):\n",
    "            summe = summe + buffer[i+m-j-1]*g[j]\n",
    "        result[i] = summe\n",
    "    \n",
    "    return result"
   ]
  },
  {
   "cell_type": "code",
   "execution_count": 16,
   "metadata": {},
   "outputs": [
    {
     "name": "stdout",
     "output_type": "stream",
     "text": [
      "Anzahl Samples:  8000\n"
     ]
    }
   ],
   "source": [
    "fs = 80\n",
    "time = sampling(100, fs)\n",
    "Data1 = sine(5,0.5,time)\n",
    "Data2 = sine(2,1,time)\n",
    "print('Anzahl Samples: ',len(time))"
   ]
  },
  {
   "cell_type": "code",
   "execution_count": 17,
   "metadata": {},
   "outputs": [],
   "source": [
    "#%%timeit\n",
    "#schnelle_faltung(Data1, Data2)"
   ]
  },
  {
   "cell_type": "code",
   "execution_count": 18,
   "metadata": {},
   "outputs": [],
   "source": [
    "#%%timeit\n",
    "#convolution(Data1, Data2)"
   ]
  },
  {
   "cell_type": "code",
   "execution_count": 19,
   "metadata": {},
   "outputs": [],
   "source": [
    "#%%timeit\n",
    "#np.convolve(Data1, Data2)"
   ]
  },
  {
   "cell_type": "code",
   "execution_count": 20,
   "metadata": {},
   "outputs": [
    {
     "data": {
      "text/plain": [
       "6118.421052631579"
      ]
     },
     "execution_count": 20,
     "metadata": {},
     "output_type": "execute_result"
    }
   ],
   "source": [
    "93 / 15.2E-3"
   ]
  },
  {
   "cell_type": "code",
   "execution_count": 21,
   "metadata": {},
   "outputs": [
    {
     "data": {
      "image/png": "[encoded data removed]",
      "text/plain": [
       "<Figure size 432x288 with 1 Axes>"
      ]
     },
     "metadata": {
      "needs_background": "light"
     },
     "output_type": "display_data"
    }
   ],
   "source": [
    "samp = [400, 800, 1600, 2400, 3200, 4000, 5200, 6000, 6800]\n",
    "zeit_schnell = [451E-6, 835E-6, 1.62E-3, 4.0E-3,4.1E-3, 4.18E-3, 15.4E-3, 14.8E-3, 15.2E-3]\n",
    "zeit_langsam = [0.309, 1.22, 5.09, 11.4, 20.2, 31.8, 56.7, 73, 93]\n",
    "\n",
    "plt.plot(samp, zeit_schnell,'yellowgreen') \n",
    "plt.plot(samp, zeit_langsam,'orange')\n",
    "plt.plot(samp, zeit_schnell,'g^',markersize=8, label='Schnelle Faltung') \n",
    "plt.plot(samp, zeit_langsam,'r^',markersize=8, label='Faltung im Zeitbereich')\n",
    "plt.xlabel('Samples Input Signale [Sa]')\n",
    "plt.ylabel('Rechenzeit [s]')\n",
    "plt.yscale('log')\n",
    "plt.legend(title='')\n",
    "#plt.savefig('schnelleFaltung_Rechenzeit.eps')\n",
    "#plt.savefig('Bilder\\schnelleFaltung_Rechenzeit.svg')\n",
    "plt.show()"
   ]
  },
  {
   "cell_type": "code",
   "execution_count": null,
   "metadata": {},
   "outputs": [],
   "source": []
  },
  {
   "cell_type": "code",
   "execution_count": null,
   "metadata": {},
   "outputs": [],
   "source": []
  },
  {
   "cell_type": "code",
   "execution_count": null,
   "metadata": {},
   "outputs": [],
   "source": []
  }
 ],
 "metadata": {
  "kernelspec": {
   "display_name": "Python 3",
   "language": "python",
   "name": "python3"
  },
  "language_info": {
   "codemirror_mode": {
    "name": "ipython",
    "version": 3
   },
   "file_extension": ".py",
   "mimetype": "text/x-python",
   "name": "python",
   "nbconvert_exporter": "python",
   "pygments_lexer": "ipython3",
   "version": "3.7.5"
  }
 },
 "nbformat": 4,
 "nbformat_minor": 2
}
