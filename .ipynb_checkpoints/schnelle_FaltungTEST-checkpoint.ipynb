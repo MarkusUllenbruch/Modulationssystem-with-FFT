{
 "cells": [
  {
   "cell_type": "code",
   "execution_count": 1,
   "metadata": {},
   "outputs": [],
   "source": [
    "import numpy as np\n",
    "import librosa\n",
    "%matplotlib inline\n",
    "import matplotlib.pyplot as plt\n",
    "import librosa.display\n",
    "import IPython.display as ipd\n",
    "import scipy.signal as sig\n",
    "import timeit"
   ]
  },
  {
   "cell_type": "markdown",
   "metadata": {},
   "source": [
    "# Schnelle Faltung"
   ]
  },
  {
   "cell_type": "code",
   "execution_count": 2,
   "metadata": {},
   "outputs": [],
   "source": [
    "def schnelle_faltung(f_arg,g_arg):\n",
    "    if f_arg.size >= g_arg.size:\n",
    "        f = f_arg                     \n",
    "        g = g_arg\n",
    "    else:\n",
    "        f = g_arg\n",
    "        g = f_arg\n",
    "        \n",
    "    len_F = f.shape[0]\n",
    "    G = g.shape[0]\n",
    "    \n",
    "    F = 8*G\n",
    "    F = 2**(int(np.log2(F)) + 1) # F>G und 2er Potenz\n",
    "    \n",
    "    g = np.pad(g, (0, F-G), 'constant', constant_values=(0,0))\n",
    "    f = np.pad(f, (G-1, 0), 'constant', constant_values=(0,0)) \n",
    "    len_F = len(f)\n",
    "    h = [];     # initialize output signal as an empty array\n",
    "    delta = F - G + 1\n",
    "    s = 0 \n",
    "    while True:  #s < delta:\n",
    "        f_block = [];\n",
    "        print(s)\n",
    "        if s+F-1 >= len_F:  # BEVOR es zum \"break\" der schleife kommt, muss noch das verbleibende Signal das übrig\n",
    "            signal_remaining = f[s:]  # verbleibendes Signal \"Rest\"  s-1 !!!!!\n",
    "            part_for_FFT = np.concatenate((signal_remaining, np.zeros(F-len(signal_remaining))) )\n",
    "            cyc = np.fft.ifft(np.fft.fft(part_for_FFT)*np.fft.fft(g))\n",
    "            h = np.concatenate((h, cyc[G-1: G+len(signal_remaining)-1]))   ##   G!!! statt G-1\n",
    "            break\n",
    "        else:\n",
    "            \n",
    "            #for i in range(s, s+F):  #Seperation of f with blocking after start index\n",
    "            #    f_block.append(f[i])\n",
    "            f_block = f[s:s+F]\n",
    "            z =  np.fft.ifft( np.fft.fft(f_block) * np.fft.fft(g) )  #rec_FFT\n",
    "            h = np.concatenate((h, z[G-1: F]))\n",
    "            s = s + delta\n",
    "        \n",
    "    h = np.array(h, dtype=np.float64)    \n",
    "    return h"
   ]
  },
  {
   "cell_type": "code",
   "execution_count": null,
   "metadata": {},
   "outputs": [],
   "source": [
    "         "
   ]
  },
  {
   "cell_type": "code",
   "execution_count": 3,
   "metadata": {},
   "outputs": [],
   "source": [
    "#Abtastung\n",
    "def sampling(t_end, sampling_freq):\n",
    "    sampling = np.linspace(0, t_end, t_end * sampling_freq, endpoint=True)\n",
    "    return sampling"
   ]
  },
  {
   "cell_type": "code",
   "execution_count": 4,
   "metadata": {},
   "outputs": [],
   "source": [
    "#Recht-Eck Signal\n",
    "def sqwave(freq, amp, sampling):\n",
    "    signal = amp *sig.square(sampling*freq*2*np.pi)\n",
    "    return signal"
   ]
  },
  {
   "cell_type": "code",
   "execution_count": 5,
   "metadata": {},
   "outputs": [],
   "source": [
    "#Sinus Signal\n",
    "def sine(freq, amp, sampling):\n",
    "    signal = amp * np.sin(2*np.pi*freq*sampling)\n",
    "    return signal"
   ]
  },
  {
   "cell_type": "code",
   "execution_count": 6,
   "metadata": {},
   "outputs": [],
   "source": [
    "fs = 100\n",
    "time1 = sampling(1000, fs)\n",
    "time2 = sampling(20, fs)\n",
    "data1 = sine(2,0.5,time1)\n",
    "data2 = sine(1,0.9,time2)"
   ]
  },
  {
   "cell_type": "code",
   "execution_count": 7,
   "metadata": {},
   "outputs": [
    {
     "data": {
      "text/plain": [
       "[<matplotlib.lines.Line2D at 0x26a8e962b88>]"
      ]
     },
     "execution_count": 7,
     "metadata": {},
     "output_type": "execute_result"
    },
    {
     "data": {
      "image/png": "[encoded data removed]",
      "text/plain": [
       "<Figure size 432x288 with 1 Axes>"
      ]
     },
     "metadata": {
      "needs_background": "light"
     },
     "output_type": "display_data"
    }
   ],
   "source": [
    "plt.plot(time1, data1)\n",
    "plt.plot(time2, data2)"
   ]
  },
  {
   "cell_type": "code",
   "execution_count": 8,
   "metadata": {},
   "outputs": [
    {
     "data": {
      "text/plain": [
       "[<matplotlib.lines.Line2D at 0x26a90c8fec8>]"
      ]
     },
     "execution_count": 8,
     "metadata": {},
     "output_type": "execute_result"
    },
    {
     "data": {
      "image/png": "[encoded data removed]",
      "text/plain": [
       "<Figure size 432x288 with 1 Axes>"
      ]
     },
     "metadata": {
      "needs_background": "light"
     },
     "output_type": "display_data"
    }
   ],
   "source": [
    "falt_py = sig.fftconvolve(data1, data2)\n",
    "plt.plot(falt_py)"
   ]
  },
  {
   "cell_type": "code",
   "execution_count": 9,
   "metadata": {},
   "outputs": [
    {
     "name": "stdout",
     "output_type": "stream",
     "text": [
      "0\n",
      "14385\n",
      "28770\n",
      "43155\n",
      "57540\n",
      "71925\n",
      "86310\n"
     ]
    },
    {
     "name": "stderr",
     "output_type": "stream",
     "text": [
      "C:\\Users\\marku\\Anaconda3\\lib\\site-packages\\ipykernel_launcher.py:39: ComplexWarning: Casting complex values to real discards the imaginary part\n"
     ]
    },
    {
     "data": {
      "text/plain": [
       "[<matplotlib.lines.Line2D at 0x26a8f460708>]"
      ]
     },
     "execution_count": 9,
     "metadata": {},
     "output_type": "execute_result"
    },
    {
     "data": {
      "image/png": "[encoded data removed]",
      "text/plain": [
       "<Figure size 432x288 with 1 Axes>"
      ]
     },
     "metadata": {
      "needs_background": "light"
     },
     "output_type": "display_data"
    }
   ],
   "source": [
    "x = 0\n",
    "delta = 1000\n",
    "falt_self = schnelle_faltung(data1, data2)\n",
    "plt.plot(falt_self[0:])\n",
    "plt.plot(falt_py[0:],'--')"
   ]
  },
  {
   "cell_type": "code",
   "execution_count": 10,
   "metadata": {},
   "outputs": [
    {
     "name": "stdout",
     "output_type": "stream",
     "text": [
      "Eigene:  100695\n",
      "numpy:  101999\n"
     ]
    },
    {
     "ename": "ValueError",
     "evalue": "operands could not be broadcast together with shapes (100695,) (101999,) ",
     "output_type": "error",
     "traceback": [
      "\u001b[1;31m---------------------------------------------------------------------------\u001b[0m",
      "\u001b[1;31mValueError\u001b[0m                                Traceback (most recent call last)",
      "\u001b[1;32m<ipython-input-10-3e8d8bd42670>\u001b[0m in \u001b[0;36m<module>\u001b[1;34m\u001b[0m\n\u001b[0;32m      2\u001b[0m \u001b[0mprint\u001b[0m\u001b[1;33m(\u001b[0m\u001b[1;34m\"numpy: \"\u001b[0m\u001b[1;33m,\u001b[0m\u001b[0mlen\u001b[0m\u001b[1;33m(\u001b[0m\u001b[0mfalt_py\u001b[0m\u001b[1;33m)\u001b[0m\u001b[1;33m)\u001b[0m\u001b[1;33m\u001b[0m\u001b[1;33m\u001b[0m\u001b[0m\n\u001b[0;32m      3\u001b[0m \u001b[1;33m\u001b[0m\u001b[0m\n\u001b[1;32m----> 4\u001b[1;33m \u001b[0mdiff\u001b[0m \u001b[1;33m=\u001b[0m \u001b[0mfalt_self\u001b[0m \u001b[1;33m-\u001b[0m \u001b[0mfalt_py\u001b[0m\u001b[1;33m\u001b[0m\u001b[1;33m\u001b[0m\u001b[0m\n\u001b[0m",
      "\u001b[1;31mValueError\u001b[0m: operands could not be broadcast together with shapes (100695,) (101999,) "
     ]
    }
   ],
   "source": [
    "print(\"Eigene: \",len(falt_self))\n",
    "print(\"numpy: \",len(falt_py))\n",
    "\n",
    "diff = falt_self - falt_py"
   ]
  },
  {
   "cell_type": "code",
   "execution_count": null,
   "metadata": {},
   "outputs": [],
   "source": [
    "plt.plot(diff)"
   ]
  },
  {
   "cell_type": "code",
   "execution_count": null,
   "metadata": {},
   "outputs": [],
   "source": []
  },
  {
   "cell_type": "code",
   "execution_count": null,
   "metadata": {},
   "outputs": [],
   "source": []
  },
  {
   "cell_type": "code",
   "execution_count": null,
   "metadata": {},
   "outputs": [],
   "source": []
  },
  {
   "cell_type": "code",
   "execution_count": null,
   "metadata": {},
   "outputs": [],
   "source": []
  },
  {
   "cell_type": "code",
   "execution_count": null,
   "metadata": {},
   "outputs": [],
   "source": []
  },
  {
   "cell_type": "code",
   "execution_count": null,
   "metadata": {},
   "outputs": [],
   "source": []
  }
 ],
 "metadata": {
  "kernelspec": {
   "display_name": "Python 3",
   "language": "python",
   "name": "python3"
  },
  "language_info": {
   "codemirror_mode": {
    "name": "ipython",
    "version": 3
   },
   "file_extension": ".py",
   "mimetype": "text/x-python",
   "name": "python",
   "nbconvert_exporter": "python",
   "pygments_lexer": "ipython3",
   "version": "3.7.5"
  }
 },
 "nbformat": 4,
 "nbformat_minor": 2
}
